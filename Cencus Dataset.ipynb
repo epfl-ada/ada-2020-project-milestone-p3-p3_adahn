{
 "cells": [
  {
   "cell_type": "code",
   "execution_count": 27,
   "metadata": {},
   "outputs": [],
   "source": [
    "# Variables explaination link: https://api.census.gov/data/2010/dec/sf1/variables.html\n",
    "\n",
    "\"\"\"\n",
    "P001001\tTotal\tTOTAL POPULATION\tnot required\tP001001ERR\t0\t(not a predicate)\tP1\n",
    "P002001\tTotal\tURBAN AND RURAL\tnot required\tP002001ERR\t0\tint\tP2\n",
    "P002002\tTotal!!Urban\tURBAN AND RURAL\tnot required\t\t0\tint\tP2\n",
    "P002003\tTotal!!Urban!!Inside urbanized areas\tURBAN AND RURAL\tnot required\t\t0\tint\tP2\n",
    "P002004\tTotal!!Urban!!Inside urban clusters\tURBAN AND RURAL\tnot required\t\t0\tint\tP2\n",
    "P002005\tTotal!!Rural\tURBAN AND RURAL\tnot required\t\t0\tint\tP2\n",
    "P002006\tTotal!!Not defined for this file\tURBAN AND RURAL\tnot required\t\t0\tint\tP2\n",
    "P003001\tTotal\tRACE\tnot required\tP003001ERR\t0\tint\tP3\n",
    "P003002\tTotal!!White alone\tRACE\tnot required\t\t0\tint\tP3\n",
    "P003003\tTotal!!Black or African American alone\tRACE\tnot required\t\t0\tint\tP3\n",
    "P003004\tTotal!!American Indian and Alaska Native alone\tRACE\tnot required\t\t0\tint\tP3\n",
    "P003005\tTotal!!Asian alone\tRACE\tnot required\t\t0\tint\tP3\n",
    "P003006\tTotal!!Native Hawaiian and Other Pacific Islander alone\tRACE\tnot required\t\t0\tint\tP3\n",
    "P003007\tTotal!!Some Other Race alone\tRACE\tnot required\t\t0\tint\tP3\n",
    "P003008\tTotal!!Two or More Races\tRACE\tnot required\t\t0\tint\tP3\n",
    "P004001\tTotal\tHISPANIC OR LATINO ORIGIN\tnot required\tP004001ERR\t0\tint\tP4\n",
    "P004002\tTotal!!Not Hispanic or Latino\tHISPANIC OR LATINO ORIGIN\tnot required\t\t0\tint\tP4\n",
    "P004003\tTotal!!Hispanic or Latino\tHISPANIC OR LATINO ORIGIN\n",
    "\"\"\"\n",
    "\n",
    "# Dataset: https://api.census.gov/data/2010/dec/sf1?get=P001001,P003002,P003003,P004003,NAME&for=county:*\n",
    "import pandas as pd\n",
    "import matplotlib.pyplot as plt\n",
    "import seaborn as sns\n",
    "import numpy as np\n",
    "from scipy import stats"
   ]
  },
  {
   "cell_type": "markdown",
   "metadata": {},
   "source": [
    "## 1 Load the dataset"
   ]
  },
  {
   "cell_type": "code",
   "execution_count": 28,
   "metadata": {},
   "outputs": [
    {
     "data": {
      "text/html": [
       "<div>\n",
       "<style scoped>\n",
       "    .dataframe tbody tr th:only-of-type {\n",
       "        vertical-align: middle;\n",
       "    }\n",
       "\n",
       "    .dataframe tbody tr th {\n",
       "        vertical-align: top;\n",
       "    }\n",
       "\n",
       "    .dataframe thead th {\n",
       "        text-align: right;\n",
       "    }\n",
       "</style>\n",
       "<table border=\"1\" class=\"dataframe\">\n",
       "  <thead>\n",
       "    <tr style=\"text-align: right;\">\n",
       "      <th></th>\n",
       "      <th>Total</th>\n",
       "      <th>White</th>\n",
       "      <th>Black</th>\n",
       "      <th>Hispanic or Latino</th>\n",
       "      <th>NAME</th>\n",
       "      <th>state</th>\n",
       "      <th>county</th>\n",
       "    </tr>\n",
       "  </thead>\n",
       "  <tbody>\n",
       "    <tr>\n",
       "      <th>1</th>\n",
       "      <td>125744</td>\n",
       "      <td>96344</td>\n",
       "      <td>8019</td>\n",
       "      <td>15445</td>\n",
       "      <td>Sebastian County, Arkansas</td>\n",
       "      <td>05</td>\n",
       "      <td>131</td>\n",
       "    </tr>\n",
       "    <tr>\n",
       "      <th>2</th>\n",
       "      <td>17058</td>\n",
       "      <td>11949</td>\n",
       "      <td>734</td>\n",
       "      <td>5220</td>\n",
       "      <td>Sevier County, Arkansas</td>\n",
       "      <td>05</td>\n",
       "      <td>133</td>\n",
       "    </tr>\n",
       "    <tr>\n",
       "      <th>3</th>\n",
       "      <td>17264</td>\n",
       "      <td>16582</td>\n",
       "      <td>93</td>\n",
       "      <td>290</td>\n",
       "      <td>Sharp County, Arkansas</td>\n",
       "      <td>05</td>\n",
       "      <td>135</td>\n",
       "    </tr>\n",
       "    <tr>\n",
       "      <th>4</th>\n",
       "      <td>12394</td>\n",
       "      <td>11995</td>\n",
       "      <td>11</td>\n",
       "      <td>157</td>\n",
       "      <td>Stone County, Arkansas</td>\n",
       "      <td>05</td>\n",
       "      <td>137</td>\n",
       "    </tr>\n",
       "    <tr>\n",
       "      <th>5</th>\n",
       "      <td>41639</td>\n",
       "      <td>26276</td>\n",
       "      <td>13721</td>\n",
       "      <td>1460</td>\n",
       "      <td>Union County, Arkansas</td>\n",
       "      <td>05</td>\n",
       "      <td>139</td>\n",
       "    </tr>\n",
       "    <tr>\n",
       "      <th>6</th>\n",
       "      <td>17295</td>\n",
       "      <td>16598</td>\n",
       "      <td>68</td>\n",
       "      <td>475</td>\n",
       "      <td>Van Buren County, Arkansas</td>\n",
       "      <td>05</td>\n",
       "      <td>141</td>\n",
       "    </tr>\n",
       "    <tr>\n",
       "      <th>7</th>\n",
       "      <td>203065</td>\n",
       "      <td>162253</td>\n",
       "      <td>6006</td>\n",
       "      <td>31458</td>\n",
       "      <td>Washington County, Arkansas</td>\n",
       "      <td>05</td>\n",
       "      <td>143</td>\n",
       "    </tr>\n",
       "    <tr>\n",
       "      <th>8</th>\n",
       "      <td>77076</td>\n",
       "      <td>70425</td>\n",
       "      <td>3074</td>\n",
       "      <td>2879</td>\n",
       "      <td>White County, Arkansas</td>\n",
       "      <td>05</td>\n",
       "      <td>145</td>\n",
       "    </tr>\n",
       "    <tr>\n",
       "      <th>9</th>\n",
       "      <td>22185</td>\n",
       "      <td>19226</td>\n",
       "      <td>307</td>\n",
       "      <td>4230</td>\n",
       "      <td>Yell County, Arkansas</td>\n",
       "      <td>05</td>\n",
       "      <td>149</td>\n",
       "    </tr>\n",
       "    <tr>\n",
       "      <th>10</th>\n",
       "      <td>21419</td>\n",
       "      <td>13854</td>\n",
       "      <td>195</td>\n",
       "      <td>11804</td>\n",
       "      <td>Colusa County, California</td>\n",
       "      <td>06</td>\n",
       "      <td>011</td>\n",
       "    </tr>\n",
       "  </tbody>\n",
       "</table>\n",
       "</div>"
      ],
      "text/plain": [
       "0    Total   White  Black Hispanic or Latino                         NAME  \\\n",
       "1   125744   96344   8019              15445   Sebastian County, Arkansas   \n",
       "2    17058   11949    734               5220      Sevier County, Arkansas   \n",
       "3    17264   16582     93                290       Sharp County, Arkansas   \n",
       "4    12394   11995     11                157       Stone County, Arkansas   \n",
       "5    41639   26276  13721               1460       Union County, Arkansas   \n",
       "6    17295   16598     68                475   Van Buren County, Arkansas   \n",
       "7   203065  162253   6006              31458  Washington County, Arkansas   \n",
       "8    77076   70425   3074               2879       White County, Arkansas   \n",
       "9    22185   19226    307               4230        Yell County, Arkansas   \n",
       "10   21419   13854    195              11804    Colusa County, California   \n",
       "\n",
       "0  state county  \n",
       "1     05    131  \n",
       "2     05    133  \n",
       "3     05    135  \n",
       "4     05    137  \n",
       "5     05    139  \n",
       "6     05    141  \n",
       "7     05    143  \n",
       "8     05    145  \n",
       "9     05    149  \n",
       "10    06    011  "
      ]
     },
     "execution_count": 28,
     "metadata": {},
     "output_type": "execute_result"
    }
   ],
   "source": [
    "df = pd.read_json(\"https://api.census.gov/data/2010/dec/sf1?get=P001001,P003002,P003003,P004003,NAME&for=county:*\")\n",
    "\n",
    "\n",
    "new_header = df.iloc[0] #grab the first row for the header\n",
    "df = df[1:] #take the data less the header row\n",
    "new_header[0] = 'Total'\n",
    "new_header[1] = 'White'\n",
    "new_header[2] = 'Black'\n",
    "new_header[3] = 'Hispanic or Latino'\n",
    "df.columns = new_header #set the header row as the df header\n",
    "df.head(10)"
   ]
  },
  {
   "cell_type": "code",
   "execution_count": 166,
   "metadata": {},
   "outputs": [
    {
     "data": {
      "text/html": [
       "<div>\n",
       "<style scoped>\n",
       "    .dataframe tbody tr th:only-of-type {\n",
       "        vertical-align: middle;\n",
       "    }\n",
       "\n",
       "    .dataframe tbody tr th {\n",
       "        vertical-align: top;\n",
       "    }\n",
       "\n",
       "    .dataframe thead th {\n",
       "        text-align: right;\n",
       "    }\n",
       "</style>\n",
       "<table border=\"1\" class=\"dataframe\">\n",
       "  <thead>\n",
       "    <tr style=\"text-align: right;\">\n",
       "      <th></th>\n",
       "      <th>Total</th>\n",
       "      <th>White</th>\n",
       "      <th>Black</th>\n",
       "      <th>Hispanic or Latino</th>\n",
       "      <th>NAME</th>\n",
       "      <th>state</th>\n",
       "      <th>county</th>\n",
       "    </tr>\n",
       "  </thead>\n",
       "  <tbody>\n",
       "    <tr>\n",
       "      <th>107</th>\n",
       "      <td>97581</td>\n",
       "      <td>75175</td>\n",
       "      <td>4423</td>\n",
       "      <td>5651</td>\n",
       "      <td>Fairbanks North Star Borough, Alaska</td>\n",
       "      <td>02</td>\n",
       "      <td>090</td>\n",
       "    </tr>\n",
       "    <tr>\n",
       "      <th>111</th>\n",
       "      <td>3141</td>\n",
       "      <td>660</td>\n",
       "      <td>219</td>\n",
       "      <td>385</td>\n",
       "      <td>Aleutians East Borough, Alaska</td>\n",
       "      <td>02</td>\n",
       "      <td>013</td>\n",
       "    </tr>\n",
       "    <tr>\n",
       "      <th>112</th>\n",
       "      <td>5561</td>\n",
       "      <td>2004</td>\n",
       "      <td>332</td>\n",
       "      <td>726</td>\n",
       "      <td>Aleutians West Census Area, Alaska</td>\n",
       "      <td>02</td>\n",
       "      <td>016</td>\n",
       "    </tr>\n",
       "    <tr>\n",
       "      <th>113</th>\n",
       "      <td>1826</td>\n",
       "      <td>1637</td>\n",
       "      <td>10</td>\n",
       "      <td>42</td>\n",
       "      <td>Denali Borough, Alaska</td>\n",
       "      <td>02</td>\n",
       "      <td>068</td>\n",
       "    </tr>\n",
       "    <tr>\n",
       "      <th>114</th>\n",
       "      <td>4847</td>\n",
       "      <td>878</td>\n",
       "      <td>11</td>\n",
       "      <td>101</td>\n",
       "      <td>Dillingham Census Area, Alaska</td>\n",
       "      <td>02</td>\n",
       "      <td>070</td>\n",
       "    </tr>\n",
       "  </tbody>\n",
       "</table>\n",
       "</div>"
      ],
      "text/plain": [
       "0    Total  White Black Hispanic or Latino  \\\n",
       "107  97581  75175  4423               5651   \n",
       "111   3141    660   219                385   \n",
       "112   5561   2004   332                726   \n",
       "113   1826   1637    10                 42   \n",
       "114   4847    878    11                101   \n",
       "\n",
       "0                                    NAME state county  \n",
       "107  Fairbanks North Star Borough, Alaska    02    090  \n",
       "111        Aleutians East Borough, Alaska    02    013  \n",
       "112    Aleutians West Census Area, Alaska    02    016  \n",
       "113                Denali Borough, Alaska    02    068  \n",
       "114        Dillingham Census Area, Alaska    02    070  "
      ]
     },
     "execution_count": 166,
     "metadata": {},
     "output_type": "execute_result"
    }
   ],
   "source": [
    "df[False == df['NAME'].str.contains(\"County\")].head(5)"
   ]
  },
  {
   "cell_type": "markdown",
   "metadata": {},
   "source": [
    "After some research, we can observe that for instance, we have the datas for Carson City, from Nevada.\n",
    "This City is not part of any county (source: https://en.wikipedia.org/wiki/Carson_City,_Nevada). \n",
    "Those entries will simply not be used, since we only use Police Stops with a County_name column specified"
   ]
  },
  {
   "cell_type": "code",
   "execution_count": 30,
   "metadata": {},
   "outputs": [],
   "source": [
    "# Given a county name and a state name, returns the number of \n",
    "# total polulation, number of blacks and number of whites.\n",
    "def getStatsByCounty(countyName, stateName, df):\n",
    "    # Split the NAME column in \"County/City Name\" and \"State\"\n",
    "    new_df = df.copy()\n",
    "    new_df[['County_name', 'State_name']] = df['NAME'].str.split(',', 1, expand=True)\n",
    "    matches = new_df[new_df['County_name'].str.contains(countyName)].copy()\n",
    "    if(len(matches) == 0):\n",
    "        # Try to remove dots from the county name \n",
    "        # i.e. \"St. Johns County\" is \"St Johns counts\" in the police dataset\n",
    "        matches = new_df[new_df['County_name'].str.replace('.', '').str.contains(\"(?i)\"+countyName)].copy()\n",
    "            \n",
    "    matches = matches[matches['State_name'].str.contains(\"(?i)\"+stateName)].copy()\n",
    "    \n",
    "    matches['Total'] = pd.to_numeric(matches['Total'])\n",
    "    matches['White'] = pd.to_numeric(matches['White'])\n",
    "    matches['Black'] = pd.to_numeric(matches['Black'])\n",
    "    matches['Hispanic or Latino'] = pd.to_numeric(matches['Hispanic or Latino'])\n",
    "    \n",
    "    if(len(matches) == 0):\n",
    "        print(\"[getStatsByCounty] Error: County not found: \", countyName, \" \", stateName)\n",
    "        return;\n",
    "    if(len(matches) == 1):\n",
    "        return {'total': matches['Total'].values[0], \n",
    "                'white': matches['White'].values[0],\n",
    "                'black': matches['Black'].values[0], \n",
    "             #   'hispanicy or latino': (matches['Hispanic or Latino']/matches['Total']).values[0]\n",
    "               }\n",
    "    else:\n",
    "        print(\"[getStatyByCount] Error: Too many matches: \", countyName)\n",
    "        print(matches[['County_name', 'State_name']])\n",
    "        return;\n",
    "\n"
   ]
  },
  {
   "cell_type": "code",
   "execution_count": 31,
   "metadata": {
    "scrolled": true
   },
   "outputs": [
    {
     "data": {
      "text/plain": [
       "{'total': 1585873, 'white': 911073, 'black': 246687}"
      ]
     },
     "execution_count": 31,
     "metadata": {},
     "output_type": "execute_result"
    }
   ],
   "source": [
    "getStatsByCounty('new york', '', df)"
   ]
  },
  {
   "cell_type": "markdown",
   "metadata": {},
   "source": [
    "The Cencus dataset can now be queried with getStatsByCounty function.\n",
    "We only get the numbre of black and white prople. The cencus datas does not provides the number of \"hispanics race\", but only the number of persons with \"hispanic origin\". Hence a black or a white can have hispanic origins, making it tricky to analyse."
   ]
  },
  {
   "cell_type": "markdown",
   "metadata": {},
   "source": [
    "## 2 Analisis of the stop rate"
   ]
  },
  {
   "cell_type": "markdown",
   "metadata": {},
   "source": [
    "In this part, we will analyse the **rate of white stops** and the **rate of black stops**.\n",
    "\n",
    "Our assumption is that in an unbiaised environement, whites prople should be stopped at the same rate as blacks people.\n",
    "\n",
    "To compute the **rate of white stops** we will use the number of white stops in a County, and the number of whites registered in the Cencus data of that County. We will do the same for the **rate of black stops**\n",
    "\n",
    "We will also split the rates into two groups: if the police officer race is white or black."
   ]
  },
  {
   "cell_type": "markdown",
   "metadata": {},
   "source": [
    "### 2.1 Prepare the datas"
   ]
  },
  {
   "cell_type": "code",
   "execution_count": 50,
   "metadata": {},
   "outputs": [
    {
     "name": "stderr",
     "output_type": "stream",
     "text": [
      "/home/yata/.local/lib/python3.7/site-packages/IPython/core/interactiveshell.py:3058: DtypeWarning: Columns (1,4,5,6) have mixed types. Specify dtype option on import or set low_memory=False.\n",
      "  interactivity=interactivity, compiler=compiler, result=result)\n"
     ]
    }
   ],
   "source": [
    "import pandas as pd\n",
    "data = pd.read_csv('data/data.csv', low_memory=False)\n",
    "\n",
    "del data['search_conducted']\n",
    "del data['contraband_found']\n",
    "del data['date']\n",
    "data.dropna();"
   ]
  },
  {
   "cell_type": "code",
   "execution_count": 54,
   "metadata": {},
   "outputs": [],
   "source": [
    "\n",
    "data = data[(data['subject_race'] == 'white') | (data['subject_race'] == 'black')]\n",
    "data = data[(data['officer_race'] == 'white') | (data['officer_race'] == 'black')]\n",
    "data['total_stops'] = 1\n",
    "data_total_stops = data.groupby(['county_name', 'state', 'subject_race', 'officer_race']).sum()\n"
   ]
  },
  {
   "cell_type": "code",
   "execution_count": 165,
   "metadata": {},
   "outputs": [
    {
     "data": {
      "text/html": [
       "<div>\n",
       "<style scoped>\n",
       "    .dataframe tbody tr th:only-of-type {\n",
       "        vertical-align: middle;\n",
       "    }\n",
       "\n",
       "    .dataframe tbody tr th {\n",
       "        vertical-align: top;\n",
       "    }\n",
       "\n",
       "    .dataframe thead th {\n",
       "        text-align: right;\n",
       "    }\n",
       "</style>\n",
       "<table border=\"1\" class=\"dataframe\">\n",
       "  <thead>\n",
       "    <tr style=\"text-align: right;\">\n",
       "      <th></th>\n",
       "      <th>level_0</th>\n",
       "      <th>index</th>\n",
       "      <th>county_name</th>\n",
       "      <th>state</th>\n",
       "      <th>subject_race</th>\n",
       "      <th>officer_race</th>\n",
       "      <th>total_stops</th>\n",
       "    </tr>\n",
       "  </thead>\n",
       "  <tbody>\n",
       "    <tr>\n",
       "      <th>0</th>\n",
       "      <td>0</td>\n",
       "      <td>0</td>\n",
       "      <td>Abbeville County</td>\n",
       "      <td>SC</td>\n",
       "      <td>black</td>\n",
       "      <td>black</td>\n",
       "      <td>391</td>\n",
       "    </tr>\n",
       "    <tr>\n",
       "      <th>1</th>\n",
       "      <td>1</td>\n",
       "      <td>1</td>\n",
       "      <td>Abbeville County</td>\n",
       "      <td>SC</td>\n",
       "      <td>black</td>\n",
       "      <td>white</td>\n",
       "      <td>13685</td>\n",
       "    </tr>\n",
       "    <tr>\n",
       "      <th>2</th>\n",
       "      <td>2</td>\n",
       "      <td>2</td>\n",
       "      <td>Abbeville County</td>\n",
       "      <td>SC</td>\n",
       "      <td>white</td>\n",
       "      <td>black</td>\n",
       "      <td>986</td>\n",
       "    </tr>\n",
       "    <tr>\n",
       "      <th>3</th>\n",
       "      <td>3</td>\n",
       "      <td>3</td>\n",
       "      <td>Abbeville County</td>\n",
       "      <td>SC</td>\n",
       "      <td>white</td>\n",
       "      <td>white</td>\n",
       "      <td>24484</td>\n",
       "    </tr>\n",
       "    <tr>\n",
       "      <th>4</th>\n",
       "      <td>4</td>\n",
       "      <td>4</td>\n",
       "      <td>Adams County</td>\n",
       "      <td>WA</td>\n",
       "      <td>black</td>\n",
       "      <td>white</td>\n",
       "      <td>3025</td>\n",
       "    </tr>\n",
       "  </tbody>\n",
       "</table>\n",
       "</div>"
      ],
      "text/plain": [
       "   level_0  index       county_name state subject_race officer_race  \\\n",
       "0        0      0  Abbeville County    SC        black        black   \n",
       "1        1      1  Abbeville County    SC        black        white   \n",
       "2        2      2  Abbeville County    SC        white        black   \n",
       "3        3      3  Abbeville County    SC        white        white   \n",
       "4        4      4      Adams County    WA        black        white   \n",
       "\n",
       "   total_stops  \n",
       "0          391  \n",
       "1        13685  \n",
       "2          986  \n",
       "3        24484  \n",
       "4         3025  "
      ]
     },
     "execution_count": 165,
     "metadata": {},
     "output_type": "execute_result"
    }
   ],
   "source": [
    "data_total_stops = data_total_stops.reset_index()\n",
    "data = data_total_stops\n",
    "data.head(5)"
   ]
  },
  {
   "cell_type": "markdown",
   "metadata": {},
   "source": [
    "We can observe that the state in the police stops dataset is in the two letters Alpha code representation (i.e. AL). In the cencus dataset, the state columns contains the state name (i.e. Alabama).\n",
    "\n",
    "A mapping dictionary has been found and used on github:https://gist.github.com/rogerallen/1583593\n",
    "\n"
   ]
  },
  {
   "cell_type": "code",
   "execution_count": 57,
   "metadata": {},
   "outputs": [],
   "source": [
    "# From https://gist.github.com/rogerallen/1583593\n",
    "us_state_abbrev = {\n",
    "    'Alabama': 'AL',\n",
    "    'Alaska': 'AK',\n",
    "    'American Samoa': 'AS',\n",
    "    'Arizona': 'AZ',\n",
    "    'Arkansas': 'AR',\n",
    "    'California': 'CA',\n",
    "    'Colorado': 'CO',\n",
    "    'Connecticut': 'CT',\n",
    "    'Delaware': 'DE',\n",
    "    'District of Columbia': 'DC',\n",
    "    'Florida': 'FL',\n",
    "    'Georgia': 'GA',\n",
    "    'Guam': 'GU',\n",
    "    'Hawaii': 'HI',\n",
    "    'Idaho': 'ID',\n",
    "    'Illinois': 'IL',\n",
    "    'Indiana': 'IN',\n",
    "    'Iowa': 'IA',\n",
    "    'Kansas': 'KS',\n",
    "    'Kentucky': 'KY',\n",
    "    'Louisiana': 'LA',\n",
    "    'Maine': 'ME',\n",
    "    'Maryland': 'MD',\n",
    "    'Massachusetts': 'MA',\n",
    "    'Michigan': 'MI',\n",
    "    'Minnesota': 'MN',\n",
    "    'Mississippi': 'MS',\n",
    "    'Missouri': 'MO',\n",
    "    'Montana': 'MT',\n",
    "    'Nebraska': 'NE',\n",
    "    'Nevada': 'NV',\n",
    "    'New Hampshire': 'NH',\n",
    "    'New Jersey': 'NJ',\n",
    "    'New Mexico': 'NM',\n",
    "    'New York': 'NY',\n",
    "    'North Carolina': 'NC',\n",
    "    'North Dakota': 'ND',\n",
    "    'Northern Mariana Islands':'MP',\n",
    "    'Ohio': 'OH',\n",
    "    'Oklahoma': 'OK',\n",
    "    'Oregon': 'OR',\n",
    "    'Pennsylvania': 'PA',\n",
    "    'Puerto Rico': 'PR',\n",
    "    'Rhode Island': 'RI',\n",
    "    'South Carolina': 'SC',\n",
    "    'South Dakota': 'SD',\n",
    "    'Tennessee': 'TN',\n",
    "    'Texas': 'TX',\n",
    "    'Utah': 'UT',\n",
    "    'Vermont': 'VT',\n",
    "    'Virgin Islands': 'VI',\n",
    "    'Virginia': 'VA',\n",
    "    'Washington': 'WA',\n",
    "    'West Virginia': 'WV',\n",
    "    'Wisconsin': 'WI',\n",
    "    'Wyoming': 'WY'\n",
    "}\n",
    "\n",
    "abbrev_us_state = dict(map(reversed, us_state_abbrev.items()))"
   ]
  },
  {
   "cell_type": "code",
   "execution_count": 58,
   "metadata": {},
   "outputs": [
    {
     "name": "stdout",
     "output_type": "stream",
     "text": [
      "[getStatsByCounty] Error: County not found:  Claredon County   South Carolina\n",
      "[getStatsByCounty] Error: County not found:  Claredon County   South Carolina\n",
      "[getStatsByCounty] Error: County not found:  Claredon County   South Carolina\n",
      "[getStatsByCounty] Error: County not found:  Claredon County   South Carolina\n",
      "[getStatsByCounty] Error: County not found:  Dillion County   South Carolina\n",
      "[getStatsByCounty] Error: County not found:  Dillion County   South Carolina\n",
      "[getStatsByCounty] Error: County not found:  Dillion County   South Carolina\n",
      "[getStatsByCounty] Error: County not found:  Dillion County   South Carolina\n",
      "[getStatsByCounty] Error: County not found:  Thomas County   Florida\n"
     ]
    },
    {
     "data": {
      "text/html": [
       "<div>\n",
       "<style scoped>\n",
       "    .dataframe tbody tr th:only-of-type {\n",
       "        vertical-align: middle;\n",
       "    }\n",
       "\n",
       "    .dataframe tbody tr th {\n",
       "        vertical-align: top;\n",
       "    }\n",
       "\n",
       "    .dataframe thead th {\n",
       "        text-align: right;\n",
       "    }\n",
       "</style>\n",
       "<table border=\"1\" class=\"dataframe\">\n",
       "  <thead>\n",
       "    <tr style=\"text-align: right;\">\n",
       "      <th></th>\n",
       "      <th>county_name</th>\n",
       "      <th>state</th>\n",
       "      <th>subject_race</th>\n",
       "      <th>officer_race</th>\n",
       "      <th>total_stops</th>\n",
       "      <th>cencus</th>\n",
       "    </tr>\n",
       "  </thead>\n",
       "  <tbody>\n",
       "    <tr>\n",
       "      <th>528</th>\n",
       "      <td>Thomas County</td>\n",
       "      <td>Florida</td>\n",
       "      <td>white</td>\n",
       "      <td>white</td>\n",
       "      <td>1</td>\n",
       "      <td>None</td>\n",
       "    </tr>\n",
       "  </tbody>\n",
       "</table>\n",
       "</div>"
      ],
      "text/plain": [
       "       county_name    state subject_race officer_race  total_stops cencus\n",
       "528  Thomas County  Florida        white        white            1   None"
      ]
     },
     "execution_count": 58,
     "metadata": {},
     "output_type": "execute_result"
    }
   ],
   "source": [
    "data_states_mapped = data.copy()\n",
    "# Replace the state names\n",
    "data_states_mapped['state'] = data['state'].map(abbrev_us_state)\n",
    "# Create the cencus column for the cencus datas\n",
    "data_states_mapped['cencus'] = data_states_mapped.apply(lambda x: getStatsByCounty(x['county_name'], x['state'], df), axis=1)\n",
    "\n",
    "# Display Thomas County entry\n",
    "data_states_mapped[data_states_mapped['county_name'] == 'Thomas County']"
   ]
  },
  {
   "cell_type": "markdown",
   "metadata": {},
   "source": [
    "We can observe that in the Florida dataset, there is one arrest in the Thomas County! This county is not in florida, but in Georgia, very close to the florida border. These entry will be removed. Same for the other counties registered in the wrong state.\n",
    "The \"Dillion County\" from the police stops dataset has been misspelled, the real county name is \"Dillon County\". Same for \"Claredon County\" which is \"Clarendon County\"."
   ]
  },
  {
   "cell_type": "code",
   "execution_count": 59,
   "metadata": {},
   "outputs": [],
   "source": [
    "# Correct misspeled county_name cencus data\n",
    "# Dillon County\n",
    "data_states_mapped.loc[data_states_mapped['county_name'] == 'Dillion County', 'cencus'] = \\\n",
    "data_states_mapped[data_states_mapped['county_name'] == 'Dillion County'].apply(lambda x: getStatsByCounty('Clarendon County', x['state'], df), axis=1)\n",
    "# Clarendon County\n",
    "data_states_mapped.loc[data_states_mapped['county_name'] == 'Claredon County', 'cencus'] = \\\n",
    "data_states_mapped[data_states_mapped['county_name'] == 'Claredon County'].apply(lambda x: getStatsByCounty('Clarendon County', x['state'], df), axis=1)\n",
    "\n",
    "# Remove NaN cencus data (for instance Thomas County not been found in the Florida cencus datas)\n",
    "data_states_mapped = data_states_mapped[data_states_mapped['cencus'].notna()]"
   ]
  },
  {
   "cell_type": "code",
   "execution_count": 163,
   "metadata": {},
   "outputs": [
    {
     "data": {
      "text/html": [
       "<div>\n",
       "<style scoped>\n",
       "    .dataframe tbody tr th:only-of-type {\n",
       "        vertical-align: middle;\n",
       "    }\n",
       "\n",
       "    .dataframe tbody tr th {\n",
       "        vertical-align: top;\n",
       "    }\n",
       "\n",
       "    .dataframe thead th {\n",
       "        text-align: right;\n",
       "    }\n",
       "</style>\n",
       "<table border=\"1\" class=\"dataframe\">\n",
       "  <thead>\n",
       "    <tr style=\"text-align: right;\">\n",
       "      <th></th>\n",
       "      <th>county_name</th>\n",
       "      <th>state</th>\n",
       "      <th>subject_race</th>\n",
       "      <th>officer_race</th>\n",
       "      <th>total_stops</th>\n",
       "      <th>cencus</th>\n",
       "    </tr>\n",
       "  </thead>\n",
       "  <tbody>\n",
       "    <tr>\n",
       "      <th>0</th>\n",
       "      <td>Abbeville County</td>\n",
       "      <td>South Carolina</td>\n",
       "      <td>black</td>\n",
       "      <td>black</td>\n",
       "      <td>391</td>\n",
       "      <td>{'total': 25417, 'white': 17691, 'black': 7187}</td>\n",
       "    </tr>\n",
       "    <tr>\n",
       "      <th>1</th>\n",
       "      <td>Abbeville County</td>\n",
       "      <td>South Carolina</td>\n",
       "      <td>black</td>\n",
       "      <td>white</td>\n",
       "      <td>13685</td>\n",
       "      <td>{'total': 25417, 'white': 17691, 'black': 7187}</td>\n",
       "    </tr>\n",
       "    <tr>\n",
       "      <th>2</th>\n",
       "      <td>Abbeville County</td>\n",
       "      <td>South Carolina</td>\n",
       "      <td>white</td>\n",
       "      <td>black</td>\n",
       "      <td>986</td>\n",
       "      <td>{'total': 25417, 'white': 17691, 'black': 7187}</td>\n",
       "    </tr>\n",
       "    <tr>\n",
       "      <th>3</th>\n",
       "      <td>Abbeville County</td>\n",
       "      <td>South Carolina</td>\n",
       "      <td>white</td>\n",
       "      <td>white</td>\n",
       "      <td>24484</td>\n",
       "      <td>{'total': 25417, 'white': 17691, 'black': 7187}</td>\n",
       "    </tr>\n",
       "    <tr>\n",
       "      <th>4</th>\n",
       "      <td>Adams County</td>\n",
       "      <td>Washington</td>\n",
       "      <td>black</td>\n",
       "      <td>white</td>\n",
       "      <td>3025</td>\n",
       "      <td>{'total': 18728, 'white': 11703, 'black': 109}</td>\n",
       "    </tr>\n",
       "  </tbody>\n",
       "</table>\n",
       "</div>"
      ],
      "text/plain": [
       "        county_name           state subject_race officer_race  total_stops  \\\n",
       "0  Abbeville County  South Carolina        black        black          391   \n",
       "1  Abbeville County  South Carolina        black        white        13685   \n",
       "2  Abbeville County  South Carolina        white        black          986   \n",
       "3  Abbeville County  South Carolina        white        white        24484   \n",
       "4      Adams County      Washington        black        white         3025   \n",
       "\n",
       "                                            cencus  \n",
       "0  {'total': 25417, 'white': 17691, 'black': 7187}  \n",
       "1  {'total': 25417, 'white': 17691, 'black': 7187}  \n",
       "2  {'total': 25417, 'white': 17691, 'black': 7187}  \n",
       "3  {'total': 25417, 'white': 17691, 'black': 7187}  \n",
       "4   {'total': 18728, 'white': 11703, 'black': 109}  "
      ]
     },
     "execution_count": 163,
     "metadata": {},
     "output_type": "execute_result"
    }
   ],
   "source": [
    "data_states_mapped.head(5)"
   ]
  },
  {
   "cell_type": "markdown",
   "metadata": {},
   "source": [
    "### 2.2 Overall stop rate\n",
    "We will now extract the rate of black people stopped and the rate of white people stopped."
   ]
  },
  {
   "cell_type": "code",
   "execution_count": 61,
   "metadata": {},
   "outputs": [
    {
     "name": "stderr",
     "output_type": "stream",
     "text": [
      "/home/yata/.local/lib/python3.7/site-packages/ipykernel_launcher.py:3: RuntimeWarning: divide by zero encountered in long_scalars\n",
      "  This is separate from the ipykernel package so we can avoid doing imports until\n"
     ]
    },
    {
     "data": {
      "text/html": [
       "<div>\n",
       "<style scoped>\n",
       "    .dataframe tbody tr th:only-of-type {\n",
       "        vertical-align: middle;\n",
       "    }\n",
       "\n",
       "    .dataframe tbody tr th {\n",
       "        vertical-align: top;\n",
       "    }\n",
       "\n",
       "    .dataframe thead th {\n",
       "        text-align: right;\n",
       "    }\n",
       "</style>\n",
       "<table border=\"1\" class=\"dataframe\">\n",
       "  <thead>\n",
       "    <tr style=\"text-align: right;\">\n",
       "      <th></th>\n",
       "      <th>county_name</th>\n",
       "      <th>state</th>\n",
       "      <th>subject_race</th>\n",
       "      <th>officer_race</th>\n",
       "      <th>total_stops</th>\n",
       "      <th>cencus</th>\n",
       "      <th>race_stop_rate</th>\n",
       "    </tr>\n",
       "  </thead>\n",
       "  <tbody>\n",
       "    <tr>\n",
       "      <th>0</th>\n",
       "      <td>Abbeville County</td>\n",
       "      <td>South Carolina</td>\n",
       "      <td>black</td>\n",
       "      <td>black</td>\n",
       "      <td>391</td>\n",
       "      <td>{'total': 25417, 'white': 17691, 'black': 7187}</td>\n",
       "      <td>0.054404</td>\n",
       "    </tr>\n",
       "    <tr>\n",
       "      <th>1</th>\n",
       "      <td>Abbeville County</td>\n",
       "      <td>South Carolina</td>\n",
       "      <td>black</td>\n",
       "      <td>white</td>\n",
       "      <td>13685</td>\n",
       "      <td>{'total': 25417, 'white': 17691, 'black': 7187}</td>\n",
       "      <td>1.904132</td>\n",
       "    </tr>\n",
       "    <tr>\n",
       "      <th>2</th>\n",
       "      <td>Abbeville County</td>\n",
       "      <td>South Carolina</td>\n",
       "      <td>white</td>\n",
       "      <td>black</td>\n",
       "      <td>986</td>\n",
       "      <td>{'total': 25417, 'white': 17691, 'black': 7187}</td>\n",
       "      <td>0.055735</td>\n",
       "    </tr>\n",
       "    <tr>\n",
       "      <th>3</th>\n",
       "      <td>Abbeville County</td>\n",
       "      <td>South Carolina</td>\n",
       "      <td>white</td>\n",
       "      <td>white</td>\n",
       "      <td>24484</td>\n",
       "      <td>{'total': 25417, 'white': 17691, 'black': 7187}</td>\n",
       "      <td>1.383981</td>\n",
       "    </tr>\n",
       "    <tr>\n",
       "      <th>4</th>\n",
       "      <td>Adams County</td>\n",
       "      <td>Washington</td>\n",
       "      <td>black</td>\n",
       "      <td>white</td>\n",
       "      <td>3025</td>\n",
       "      <td>{'total': 18728, 'white': 11703, 'black': 109}</td>\n",
       "      <td>27.752294</td>\n",
       "    </tr>\n",
       "  </tbody>\n",
       "</table>\n",
       "</div>"
      ],
      "text/plain": [
       "        county_name           state subject_race officer_race  total_stops  \\\n",
       "0  Abbeville County  South Carolina        black        black          391   \n",
       "1  Abbeville County  South Carolina        black        white        13685   \n",
       "2  Abbeville County  South Carolina        white        black          986   \n",
       "3  Abbeville County  South Carolina        white        white        24484   \n",
       "4      Adams County      Washington        black        white         3025   \n",
       "\n",
       "                                            cencus  race_stop_rate  \n",
       "0  {'total': 25417, 'white': 17691, 'black': 7187}        0.054404  \n",
       "1  {'total': 25417, 'white': 17691, 'black': 7187}        1.904132  \n",
       "2  {'total': 25417, 'white': 17691, 'black': 7187}        0.055735  \n",
       "3  {'total': 25417, 'white': 17691, 'black': 7187}        1.383981  \n",
       "4   {'total': 18728, 'white': 11703, 'black': 109}       27.752294  "
      ]
     },
     "execution_count": 61,
     "metadata": {},
     "output_type": "execute_result"
    }
   ],
   "source": [
    "def extractRate(race, total_stops, cencus_data):\n",
    "    if race == 'black':\n",
    "        return total_stops/cencus_data['black']\n",
    "    else:\n",
    "        return total_stops/cencus_data['white']\n",
    "\n",
    "rates = data_states_mapped.copy()\n",
    "rates['race_stop_rate'] = data_states_mapped.apply(lambda x: extractRate(x['subject_race'], x['total_stops'], x['cencus']) , axis=1)\n",
    "rates.head(5)"
   ]
  },
  {
   "cell_type": "code",
   "execution_count": 62,
   "metadata": {},
   "outputs": [
    {
     "name": "stdout",
     "output_type": "stream",
     "text": [
      "1.0  counties removed\n"
     ]
    }
   ],
   "source": [
    "# Dataset cleaning\n",
    "# Remove entries where the rate of black or white if \"inf\"\n",
    "# That would mean that no black/white are registered in the cencus dataset\n",
    "county_to_remove = rates[False == rates['race_stop_rate'].replace([np.inf, -np.inf], np.nan).notna()]['county_name'].values\n",
    "length_before = len(rates);\n",
    "rates = rates[False == rates['county_name'].isin(county_to_remove)]\n",
    "print((length_before - len(rates))/2, \" counties removed\");"
   ]
  },
  {
   "cell_type": "code",
   "execution_count": 170,
   "metadata": {},
   "outputs": [
    {
     "name": "stdout",
     "output_type": "stream",
     "text": [
      "Black stop rate by black officer. [mean]= 0.14046770177862478 [std]= 0.22264205130533504\n",
      "White stop rate by black officer. [mean]= 0.1374946899592965 [std]= 0.31047276374554905\n",
      "Black stop rate by white officer. [mean]= 1.9102578671240205 [std]= 3.0628330649889937\n",
      "White stop rate by white officer. [mean]= 1.13812818937867 [std]= 1.092617959047836\n"
     ]
    }
   ],
   "source": [
    "rates_black_officer = rates[rates['officer_race'] == 'black'].copy()\n",
    "rates_white_officer = rates[rates['officer_race'] == 'white'].copy()\n",
    "\n",
    "# officer black\n",
    "black_stop_rate_officer_black = rates_black_officer[rates_black_officer['subject_race'] == 'black']['race_stop_rate']\n",
    "white_stop_rate_officer_black = rates_black_officer[rates_black_officer['subject_race'] == 'white']['race_stop_rate']\n",
    "\n",
    "# officer white\n",
    "black_stop_rate_officer_white = rates_white_officer[rates_white_officer['subject_race'] == 'black']['race_stop_rate']\n",
    "white_stop_rate_officer_white = rates_white_officer[rates_white_officer['subject_race'] == 'white']['race_stop_rate']\n",
    "\n",
    "print(\"Black stop rate by black officer. [mean]=\", black_stop_rate_officer_black.mean(), \"[std]=\", black_stop_rate_officer_black.std())\n",
    "print(\"White stop rate by black officer. [mean]=\", white_stop_rate_officer_black.mean(), \"[std]=\", white_stop_rate_officer_black.std())\n",
    "print(\"Black stop rate by white officer. [mean]=\", black_stop_rate_officer_white.mean(), \"[std]=\", black_stop_rate_officer_white.std())\n",
    "print(\"White stop rate by white officer. [mean]=\", white_stop_rate_officer_white.mean(), \"[std]=\", white_stop_rate_officer_white.std())\n"
   ]
  },
  {
   "cell_type": "markdown",
   "metadata": {},
   "source": [
    "### Observation\n",
    "#### Black officer\n",
    "We can observe that black officers arrest black and white people at a similar rate\n",
    "\n",
    "#### White officer\n",
    "We can observe that white officers tends to arrest black people at a higher rate than white people.\n",
    "\n",
    "#### Note\n",
    "The observed stop rate is different than the one in the paper, since here we are using all the stops datas. In the paper, the stop rate is the average annual per-capita stop rates across the states and cities analysed"
   ]
  },
  {
   "cell_type": "markdown",
   "metadata": {},
   "source": [
    "### 2.3 Difference in the stops rates for each County\n",
    "\n",
    "In this part, we will analyse how many counties have a black stop rate greater than the black stop rate.\n",
    "\n",
    "For that, we will use a ratio:\n",
    "$ ratio = white\\_stop\\_rate / black\\_stop\\_rate $\n",
    "\n",
    "If $ratio > 1$, the whites people are arrested more often that the black people\n",
    "if $ratio < 1$, the blacks people are arrested more often."
   ]
  },
  {
   "cell_type": "code",
   "execution_count": 130,
   "metadata": {},
   "outputs": [
    {
     "data": {
      "text/html": [
       "<div>\n",
       "<style scoped>\n",
       "    .dataframe tbody tr th:only-of-type {\n",
       "        vertical-align: middle;\n",
       "    }\n",
       "\n",
       "    .dataframe tbody tr th {\n",
       "        vertical-align: top;\n",
       "    }\n",
       "\n",
       "    .dataframe thead th {\n",
       "        text-align: right;\n",
       "    }\n",
       "</style>\n",
       "<table border=\"1\" class=\"dataframe\">\n",
       "  <thead>\n",
       "    <tr style=\"text-align: right;\">\n",
       "      <th></th>\n",
       "      <th>county_name</th>\n",
       "      <th>state</th>\n",
       "      <th>officer_race</th>\n",
       "      <th>total_stops</th>\n",
       "      <th>ratio</th>\n",
       "      <th>cencus</th>\n",
       "    </tr>\n",
       "  </thead>\n",
       "  <tbody>\n",
       "    <tr>\n",
       "      <th>0</th>\n",
       "      <td>Abbeville County</td>\n",
       "      <td>South Carolina</td>\n",
       "      <td>black</td>\n",
       "      <td>1377</td>\n",
       "      <td>1.024461</td>\n",
       "      <td>{'total': 25417, 'white': 17691, 'black': 7187}</td>\n",
       "    </tr>\n",
       "    <tr>\n",
       "      <th>1</th>\n",
       "      <td>Abbeville County</td>\n",
       "      <td>South Carolina</td>\n",
       "      <td>white</td>\n",
       "      <td>38169</td>\n",
       "      <td>0.726830</td>\n",
       "      <td>{'total': 25417, 'white': 17691, 'black': 7187}</td>\n",
       "    </tr>\n",
       "    <tr>\n",
       "      <th>2</th>\n",
       "      <td>Adams County</td>\n",
       "      <td>Washington</td>\n",
       "      <td>white</td>\n",
       "      <td>68488</td>\n",
       "      <td>0.201558</td>\n",
       "      <td>{'total': 18728, 'white': 11703, 'black': 109}</td>\n",
       "    </tr>\n",
       "    <tr>\n",
       "      <th>3</th>\n",
       "      <td>Aiken County</td>\n",
       "      <td>South Carolina</td>\n",
       "      <td>black</td>\n",
       "      <td>28295</td>\n",
       "      <td>0.612654</td>\n",
       "      <td>{'total': 160099, 'white': 111457, 'black': 39...</td>\n",
       "    </tr>\n",
       "    <tr>\n",
       "      <th>4</th>\n",
       "      <td>Aiken County</td>\n",
       "      <td>South Carolina</td>\n",
       "      <td>white</td>\n",
       "      <td>246031</td>\n",
       "      <td>0.586143</td>\n",
       "      <td>{'total': 160099, 'white': 111457, 'black': 39...</td>\n",
       "    </tr>\n",
       "  </tbody>\n",
       "</table>\n",
       "</div>"
      ],
      "text/plain": [
       "        county_name           state officer_race  total_stops     ratio  \\\n",
       "0  Abbeville County  South Carolina        black         1377  1.024461   \n",
       "1  Abbeville County  South Carolina        white        38169  0.726830   \n",
       "2      Adams County      Washington        white        68488  0.201558   \n",
       "3      Aiken County  South Carolina        black        28295  0.612654   \n",
       "4      Aiken County  South Carolina        white       246031  0.586143   \n",
       "\n",
       "                                              cencus  \n",
       "0    {'total': 25417, 'white': 17691, 'black': 7187}  \n",
       "1    {'total': 25417, 'white': 17691, 'black': 7187}  \n",
       "2     {'total': 18728, 'white': 11703, 'black': 109}  \n",
       "3  {'total': 160099, 'white': 111457, 'black': 39...  \n",
       "4  {'total': 160099, 'white': 111457, 'black': 39...  "
      ]
     },
     "execution_count": 130,
     "metadata": {},
     "output_type": "execute_result"
    }
   ],
   "source": [
    "# We now have the rate of black people stopped and the rate of white people stopped\n",
    "# We will now compute the ratio of those two different rates\n",
    "# ratio = r_white / w_black\n",
    "\n",
    "# If we have ratio > 1:  The rate of white stopped is greater than the rate of black stopped\n",
    "# If we have ration < 0: The rate of black stopped is greater than the rate of white stopped\n",
    "\n",
    "def computeRatio(white_rate, black_rate):\n",
    "    return white_rate / black_rate;\n",
    "\n",
    "def extract_ratio(race, race_stop_rate):\n",
    "    if (len(race_stop_rate) != 2):\n",
    "        return None;\n",
    "    if(race.iloc[0] == 'white'):\n",
    "        return computeRatio(race_stop_rate.iloc[0], race_stop_rate.iloc[1])\n",
    "    else:\n",
    "        return computeRatio(race_stop_rate.iloc[1], race_stop_rate.iloc[0])\n",
    "\n",
    "def appl_merge_rows(x):\n",
    "    ratio = extract_ratio(x['subject_race'], x['race_stop_rate'])\n",
    "    return pd.Series({'total_stops':x['total_stops'].sum(), 'ratio':ratio, 'cencus': x['cencus'].values[0]})\n",
    "    \n",
    "ratios = rates.groupby(['county_name', 'state', 'officer_race']).apply(lambda x: appl_merge_rows(x))\n",
    "\n",
    "# remove NaN values\n",
    "# for instance if there is no stops between \"black officer and black subject\" in a county, the ratio is NaN\n",
    "ratios = ratios[ratios['ratio'].notna()].reset_index();\n",
    "\n",
    "ratios_black_officer = ratios[ratios['officer_race'] == 'black'];\n",
    "ratios_white_officer = ratios[ratios['officer_race'] == 'white'];\n",
    "\n",
    "ratios.head(5)"
   ]
  },
  {
   "cell_type": "code",
   "execution_count": 182,
   "metadata": {},
   "outputs": [
    {
     "name": "stdout",
     "output_type": "stream",
     "text": [
      "Number of Counties with white_stop_rate > black_stop_rate (officer black):  31\n",
      "Number of Counties with white_stop_rate < black_stop_rate (officer black):  100\n",
      "Number of Counties with white_stop_rate > black_stop_rate (officer white):  33\n",
      "Number of Counties with white_stop_rate < black_stop_rate (officer white):  119\n"
     ]
    },
    {
     "data": {
      "image/png": "[encoded data removed]",
      "text/plain": [
       "<Figure size 720x360 with 2 Axes>"
      ]
     },
     "metadata": {
      "needs_background": "light"
     },
     "output_type": "display_data"
    },
    {
     "name": "stdout",
     "output_type": "stream",
     "text": [
      "Info: Ratio > 1 when the rate of white stops is greater than the rate of black stops\n"
     ]
    }
   ],
   "source": [
    "import warnings\n",
    "warnings.filterwarnings('ignore')\n",
    "print(\"Number of Counties with white_stop_rate > black_stop_rate (officer black): \", len(ratios_black_officer[ratios_black_officer['ratio'] > 1]))\n",
    "print(\"Number of Counties with white_stop_rate < black_stop_rate (officer black): \", len(ratios_black_officer[ratios_black_officer['ratio'] < 1]))\n",
    "\n",
    "print(\"Number of Counties with white_stop_rate > black_stop_rate (officer white): \", len(ratios_white_officer[ratios_white_officer['ratio'] > 1]))\n",
    "print(\"Number of Counties with white_stop_rate < black_stop_rate (officer white): \", len(ratios_white_officer[ratios_white_officer['ratio'] < 1]))\n",
    "\n",
    "fig, axes = plt.subplots(1, 2, figsize=(10,5))\n",
    "\n",
    "sns.distplot(ratios_white_officer['ratio'].values, ax=axes[0])\n",
    "sns.distplot(ratios_black_officer['ratio'].values, ax=axes[1])\n",
    "plt.title('Distribution of the ratios')\n",
    "axes[0].set_ylim(ymax=1.3)\n",
    "axes[0].set_xlim(xmax=4)\n",
    "axes[0].set_title('White officer')\n",
    "axes[1].set_ylim(ymax=1.3)\n",
    "axes[1].set_xlim(xmax=4)\n",
    "axes[1].set_title('Black officer')\n",
    "\n",
    "axes[0].axvline(x=1, color='red')\n",
    "axes[1].axvline(x=1, color='red')\n",
    "\n",
    "axes[0].set_xlabel('Ratio')\n",
    "axes[1].set_xlabel('Ratio')\n",
    "axes[0].set_ylabel('Density')\n",
    "\n",
    "plt.show()\n",
    "\n",
    "print(\"Info: Ratio > 1 when the rate of white stops is greater than the rate of black stops\")"
   ]
  },
  {
   "cell_type": "markdown",
   "metadata": {},
   "source": [
    "#### Observation\n",
    "\n",
    "We can observe that the black stops rate is ofter greater than the white stops rate (ratio < 1).\n",
    "\n",
    "It seems that the officer rate does not make a significant difference at the County level.\n"
   ]
  },
  {
   "cell_type": "code",
   "execution_count": 162,
   "metadata": {},
   "outputs": [
    {
     "data": {
      "text/plain": [
       "Text(0.5, 1.0, 'Black officer')"
      ]
     },
     "execution_count": 162,
     "metadata": {},
     "output_type": "execute_result"
    },
    {
     "data": {
      "image/png": "[encoded data removed]",
      "text/plain": [
       "<Figure size 864x360 with 3 Axes>"
      ]
     },
     "metadata": {
      "needs_background": "light"
     },
     "output_type": "display_data"
    }
   ],
   "source": [
    "np.random.seed(142)\n",
    "\n",
    "# reduce the size of the total_stops column\n",
    "total_stops = (ratios['total_stops']/ratios['total_stops'].mean())\n",
    "\n",
    "def ratioPlot(df, ax):\n",
    "    N = len(df)\n",
    "    x = np.random.rand(N)*3\n",
    "    y = np.random.rand(N)*3\n",
    "    colors = np.random.rand(N)\n",
    "    area = (30 * np.random.rand(N))**2  # 0 to 15 point radii\n",
    "\n",
    "    return ax.scatter(x, y, alpha = .8, s=df['total_stops'].values/3000, c = df['ratio'].values, cmap = 'seismic')\n",
    "    \n",
    "fig, axes = plt.subplots(1, 2, figsize=(12,5))\n",
    "\n",
    "im = ratioPlot(ratios[ratios['officer_race'] == 'white'], axes[0])   \n",
    "\n",
    "ratioPlot(ratios[ratios['officer_race'] == 'black'], axes[1])   \n",
    "\n",
    "fig.subplots_adjust(right=0.8)\n",
    "cbar = fig.colorbar(im)\n",
    "cbar.ax.set_ylabel('Ratio: (white_stop_rate / black_stop_rate)')\n",
    "\n",
    "\n",
    "axes[0].set_title('White officer')\n",
    "axes[1].set_title('Black officer')\n"
   ]
  },
  {
   "cell_type": "markdown",
   "metadata": {},
   "source": [
    "#### Observation\n",
    "In the figure above, we can observe a lot of blue circles. Each circle is a County and the area of the circle is defined by the number of stops in the County.\n",
    "\n",
    "We can observe that at the county level, the black stop rate is higher than the white stop rate. Further more, the black officer rate does seems to reverse this balance. \n"
   ]
  },
  {
   "cell_type": "markdown",
   "metadata": {},
   "source": [
    "### Conclusion\n",
    "These numbers are a starting point for understanding racial disparities in traffic stops, but they do not, per se, provide strong evidence of racially disparate treatment. In particular, stop rates do\n",
    "not account for possible race-specific differences in driving behaviour,\n",
    "including amount of time spent on the road and adherence to traffic\n",
    "laws. For example, if black drivers, hypothetically, spend more time on\n",
    "the road than white drivers, that could explain the higher stop rates we\n",
    "see for the former, even in the absence of discrimination. "
   ]
  },
  {
   "cell_type": "markdown",
   "metadata": {},
   "source": [
    "### Confidence interval ( à supprimer je pense ou refaire....)"
   ]
  },
  {
   "cell_type": "markdown",
   "metadata": {},
   "source": [
    "Now we will observe how confident we are about those results.\n",
    "The first step is to measure the biais.\n",
    "Different formula can apply. Here, we will just apply:\n",
    "$\\sum_{\\forall C\\in\\vec{Counties}} number\\_of\\_stops*(ratio - 1)$\n",
    "\n",
    "$(ratio - 1)$ is positive if there the rate of white stops is greater than the rate of black stops\n",
    "\n",
    "$(ratio - 1)$ is negative if there the rate of black stops is greater than the rate of white stops\n",
    "\n",
    "We have decided that the number of data should influence the weight of the biais, this is why the **number_of_stops** is taken into account"
   ]
  },
  {
   "cell_type": "code",
   "execution_count": 299,
   "metadata": {},
   "outputs": [
    {
     "name": "stdout",
     "output_type": "stream",
     "text": [
      "The biais in the ratios is:  -4471128.574947493\n",
      "The mean of the ratios is:  0.7409052347706728\n",
      "The std of the ratios is:  0.3757967199797347\n"
     ]
    }
   ],
   "source": [
    "# Compute the biais\n",
    "def compute_biais(df):\n",
    "    return df.apply(lambda x: x['total_stops'] * (x['ratio'] - 1), axis = 1).sum()\n",
    "\n",
    "biais = compute_biais(ratios)\n",
    "print(\"The biais in the ratios is: \", biais)\n",
    "print(\"The mean of the ratios is: \", ratios['ratio'].mean())\n",
    "print(\"The std of the ratios is: \", ratios['ratio'].std())"
   ]
  },
  {
   "cell_type": "markdown",
   "metadata": {},
   "source": [
    "This \"huge\" number does not mean much by itself. We can just observe that overall, with this negative number, we can make the hypothesis that the rate of black stops is greater than the rate of white stops. Furthermore, the mean lower than 1 embrace this hypothesis.\n",
    "\n",
    "The second step is to generate a confidence interval of a **random** police stops.\n",
    "For instance, in **\"Abbeville County\"**, there is $14077 + 25472 = 39 549$ police stops. There is also $17691 + 7187 = 24878$ black and white registered in the Cencus. You may note that the police stops is greater that the number of habitants registered in the Cencus dataset. This is because the police stops are over a period of many years. Furthermore, the Cencus may be imcomplete, and computed differently in different counties.\n",
    "With a random police stop in **Abbeville County**, the probability to arrest a black person is $p = 7187/25878 = 0.29$.\n",
    "\n",
    "The experience that we will run is that for **Abbeville County**, 39549 persons will be \"stopped\", with a probability $p$ to arrest a black person, and $1-p$ to arrest a white person. \n",
    "To summarize, for each County, we will create an artificial and random dataset of black and white random police stops, knowing the number of black and whites in that County.\n",
    "\n",
    "Finally, we will compute the biais of each experience, as done in step 1."
   ]
  },
  {
   "cell_type": "code",
   "execution_count": 302,
   "metadata": {},
   "outputs": [
    {
     "data": {
      "text/html": [
       "<div>\n",
       "<style scoped>\n",
       "    .dataframe tbody tr th:only-of-type {\n",
       "        vertical-align: middle;\n",
       "    }\n",
       "\n",
       "    .dataframe tbody tr th {\n",
       "        vertical-align: top;\n",
       "    }\n",
       "\n",
       "    .dataframe thead th {\n",
       "        text-align: right;\n",
       "    }\n",
       "</style>\n",
       "<table border=\"1\" class=\"dataframe\">\n",
       "  <thead>\n",
       "    <tr style=\"text-align: right;\">\n",
       "      <th></th>\n",
       "      <th>total_stops</th>\n",
       "      <th>ratio</th>\n",
       "    </tr>\n",
       "    <tr>\n",
       "      <th>county_name</th>\n",
       "      <th></th>\n",
       "      <th></th>\n",
       "    </tr>\n",
       "  </thead>\n",
       "  <tbody>\n",
       "    <tr>\n",
       "      <th>Abbeville County</th>\n",
       "      <td>39549.0</td>\n",
       "      <td>0.997825</td>\n",
       "    </tr>\n",
       "    <tr>\n",
       "      <th>Adams County</th>\n",
       "      <td>71317.0</td>\n",
       "      <td>0.974739</td>\n",
       "    </tr>\n",
       "    <tr>\n",
       "      <th>Aiken County</th>\n",
       "      <td>276471.0</td>\n",
       "      <td>0.993298</td>\n",
       "    </tr>\n",
       "    <tr>\n",
       "      <th>Alachua County</th>\n",
       "      <td>46494.0</td>\n",
       "      <td>0.996193</td>\n",
       "    </tr>\n",
       "    <tr>\n",
       "      <th>Allendale County</th>\n",
       "      <td>33218.0</td>\n",
       "      <td>0.997291</td>\n",
       "    </tr>\n",
       "    <tr>\n",
       "      <th>Anderson County</th>\n",
       "      <td>460883.0</td>\n",
       "      <td>0.998291</td>\n",
       "    </tr>\n",
       "    <tr>\n",
       "      <th>Asotin County</th>\n",
       "      <td>12652.0</td>\n",
       "      <td>1.052533</td>\n",
       "    </tr>\n",
       "    <tr>\n",
       "      <th>Baker County</th>\n",
       "      <td>25096.0</td>\n",
       "      <td>1.006252</td>\n",
       "    </tr>\n",
       "    <tr>\n",
       "      <th>Bamberg County</th>\n",
       "      <td>58487.0</td>\n",
       "      <td>1.005147</td>\n",
       "    </tr>\n",
       "    <tr>\n",
       "      <th>Barnwell County</th>\n",
       "      <td>64111.0</td>\n",
       "      <td>1.004386</td>\n",
       "    </tr>\n",
       "  </tbody>\n",
       "</table>\n",
       "</div>"
      ],
      "text/plain": [
       "                  total_stops     ratio\n",
       "county_name                            \n",
       "Abbeville County      39549.0  0.997825\n",
       "Adams County          71317.0  0.974739\n",
       "Aiken County         276471.0  0.993298\n",
       "Alachua County        46494.0  0.996193\n",
       "Allendale County      33218.0  0.997291\n",
       "Anderson County      460883.0  0.998291\n",
       "Asotin County         12652.0  1.052533\n",
       "Baker County          25096.0  1.006252\n",
       "Bamberg County        58487.0  1.005147\n",
       "Barnwell County       64111.0  1.004386"
      ]
     },
     "execution_count": 302,
     "metadata": {},
     "output_type": "execute_result"
    }
   ],
   "source": [
    "import random\n",
    "def create_random_df(cencus_df):\n",
    "    def generate_black_white_stops(number_of_whites, number_of_blacks, total_stops):\n",
    "        # p is the probability to pick a white person\n",
    "        p = number_of_whites/(number_of_whites + number_of_blacks);\n",
    "        blacks = 0;\n",
    "        whites = 0;\n",
    "        for i in range(total_stops):\n",
    "            if(random.uniform(0, 1) < p):\n",
    "                whites = whites + 1;\n",
    "            else:\n",
    "                blacks = blacks + 1;\n",
    "                \n",
    "        white_rate = extractRate('white', whites, {'white': number_of_whites,'black': number_of_blacks});\n",
    "        black_rate = extractRate('black', blacks, {'white': number_of_whites,'black': number_of_blacks})\n",
    "        \n",
    "        return pd.Series({'total_stops':whites+blacks, 'ratio': computeRatio(white_rate, black_rate)});\n",
    "    \n",
    "    return cencus_df.apply(lambda x: generate_black_white_stops(x['cencus']['white'], x['cencus']['black'], x['total_stops']), axis = 1)\n",
    "\n",
    "# Display a random DF\n",
    "create_random_df(ratios.head(10)).head(10)\n",
    "\n",
    "        "
   ]
  },
  {
   "cell_type": "markdown",
   "metadata": {},
   "source": [
    "We can observe in the dataframe above a dataset of random arrests, generated with the Cencus datas. Each police stop is random among the population of the County."
   ]
  },
  {
   "cell_type": "code",
   "execution_count": 308,
   "metadata": {},
   "outputs": [
    {
     "name": "stdout",
     "output_type": "stream",
     "text": [
      "The biais of the ratios is:  -20480.147385861907\n",
      "The mean of the ratios is:  1.0034907478343364\n",
      "The std of the ratios is:  0.05679686564035286\n"
     ]
    }
   ],
   "source": [
    "# Compute the biais\n",
    "def compute_biais_of_random_df(df):\n",
    "    biais = df.apply(lambda x: x['total_stops']*(x['ratio'] - 1), axis = 1).sum()\n",
    "    return biais\n",
    "\n",
    "random_df = create_random_df(ratios);\n",
    "biais = compute_biais_of_random_df(random_df)\n",
    "\n",
    "print(\"The biais of the ratios is: \", biais)\n",
    "print(\"The mean of the ratios is: \", random_df['ratio'].mean())\n",
    "print(\"The std of the ratios is: \", random_df['ratio'].std())"
   ]
  },
  {
   "cell_type": "markdown",
   "metadata": {},
   "source": [
    "We can observe the biais of a random police stops dataset. We will create a sample of 1000 different police-stops dataset, and plot the distribution of the biais. We can also observe that the std is lower in this sample, and that the mean is as expected around 1."
   ]
  },
  {
   "cell_type": "code",
   "execution_count": 197,
   "metadata": {},
   "outputs": [],
   "source": [
    "def confidence_interval_datas(df):\n",
    "    biais = [];\n",
    "    for i in range(700):\n",
    "        biais.append(compute_biais_of_random_df(create_random_df(df)))\n",
    "    \n",
    "    return biais\n",
    "\n",
    "random.seed(42);\n",
    "biais = confidence_interval_datas(ratios)"
   ]
  },
  {
   "cell_type": "code",
   "execution_count": 199,
   "metadata": {},
   "outputs": [
    {
     "data": {
      "image/png": "[encoded data removed]",
      "text/plain": [
       "<Figure size 432x288 with 1 Axes>"
      ]
     },
     "metadata": {
      "needs_background": "light"
     },
     "output_type": "display_data"
    },
    {
     "name": "stdout",
     "output_type": "stream",
     "text": [
      "The confidence interval is [-32381.954983868694], 42286.82835519177]\n"
     ]
    }
   ],
   "source": [
    "sns.distplot(biais)\n",
    "plt.title('Distribution of the residuals')\n",
    "plt.xlabel('Residuals')\n",
    "plt.ylabel('Density')\n",
    "plt.show()\n",
    "\n",
    "print(f'The confidence interval is [{np.nanpercentile(biais, 2.5)}], {np.nanpercentile(biais, 97.5)}]')"
   ]
  },
  {
   "cell_type": "markdown",
   "metadata": {},
   "source": [
    "The observed biais in the real police stops dataset is outside of the confidence interval of the \"racial unbiaised police stop datasets\" generated with random police stops among the black and white population registered in the Cencus dataset. "
   ]
  },
  {
   "cell_type": "markdown",
   "metadata": {},
   "source": [
    "### Conclusion\n",
    "These numbers are a starting point for understanding racial disparities in traffic stops, but they do not, per se, provide strong evidence of racially disparate treatment. In particular, stop rates do\n",
    "not account for possible race-specific differences in driving behaviour,\n",
    "including amount of time spent on the road and adherence to traffic\n",
    "laws. For example, if black drivers, hypothetically, spend more time on\n",
    "the road than white drivers, that could explain the higher stop rates we\n",
    "see for the former, even in the absence of discrimination. "
   ]
  }
 ],
 "metadata": {
  "kernelspec": {
   "display_name": "Python 3",
   "language": "python",
   "name": "python3"
  },
  "language_info": {
   "codemirror_mode": {
    "name": "ipython",
    "version": 3
   },
   "file_extension": ".py",
   "mimetype": "text/x-python",
   "name": "python",
   "nbconvert_exporter": "python",
   "pygments_lexer": "ipython3",
   "version": "3.7.7"
  }
 },
 "nbformat": 4,
 "nbformat_minor": 2
}
