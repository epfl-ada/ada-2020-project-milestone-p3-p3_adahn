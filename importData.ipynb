{
 "cells": [
  {
   "cell_type": "markdown",
   "metadata": {},
   "source": [
    "# Import data"
   ]
  },
  {
   "cell_type": "code",
   "execution_count": 3,
   "metadata": {},
   "outputs": [],
   "source": [
    "import pandas as pd\n",
    "import os\n",
    "import glob"
   ]
  },
  {
   "cell_type": "code",
   "execution_count": 3,
   "metadata": {},
   "outputs": [],
   "source": [
    "## HESITEZ PAS A RENDRE CETTE FONCTION PLUS MODULAIRE\n",
    "\n",
    "# Get only columns we need (for now county_name and search_conducted)\n",
    "def filterCols(df):\n",
    "    if ('county_name' in df.columns) & ('search_conducted' in df.columns):\n",
    "        if 'contraband_found' in df.columns:\n",
    "            return df[['date','county_name', 'subject_race', 'officer_race', 'search_conducted', 'contraband_found']]\n",
    "        else:\n",
    "            return df[['date','county_name', 'subject_race', 'officer_race', 'search_conducted']]\n",
    "    else :\n",
    "            return df[['date', 'subject_race', 'officer_race']]"
   ]
  },
  {
   "cell_type": "code",
   "execution_count": 8,
   "metadata": {},
   "outputs": [],
   "source": [
    "FOLDER = 'raw/'\n",
    "\n",
    "csvfiles = glob.glob(os.path.join(FOLDER, '*.csv'))\n",
    "\n",
    "data = pd.DataFrame(columns=['date','county_name', 'subject_race', 'officer_race', 'search_conducted', 'contraband_found'])\n",
    "\n",
    "chunksize = 10 ** 6\n",
    "for csvfile in csvfiles:\n",
    "    for chunk in pd.read_csv(csvfile, usecols=lambda x: x in ['date','county_name', 'subject_race', 'officer_race', 'search_conducted', 'contraband_found'] \\\n",
    "                     , chunksize=chunksize, low_memory=False, error_bad_lines = False):\n",
    "        data = pd.concat([data, chunk], axis=0 , ignore_index=True)"
   ]
  },
  {
   "cell_type": "code",
   "execution_count": 11,
   "metadata": {},
   "outputs": [
    {
     "data": {
      "text/html": [
       "<div>\n",
       "<style scoped>\n",
       "    .dataframe tbody tr th:only-of-type {\n",
       "        vertical-align: middle;\n",
       "    }\n",
       "\n",
       "    .dataframe tbody tr th {\n",
       "        vertical-align: top;\n",
       "    }\n",
       "\n",
       "    .dataframe thead th {\n",
       "        text-align: right;\n",
       "    }\n",
       "</style>\n",
       "<table border=\"1\" class=\"dataframe\">\n",
       "  <thead>\n",
       "    <tr style=\"text-align: right;\">\n",
       "      <th></th>\n",
       "      <th>date</th>\n",
       "      <th>county_name</th>\n",
       "      <th>subject_race</th>\n",
       "      <th>officer_race</th>\n",
       "      <th>search_conducted</th>\n",
       "      <th>contraband_found</th>\n",
       "    </tr>\n",
       "  </thead>\n",
       "  <tbody>\n",
       "    <tr>\n",
       "      <th>0</th>\n",
       "      <td>2009-10-27</td>\n",
       "      <td>Walla Walla County</td>\n",
       "      <td>white</td>\n",
       "      <td>white</td>\n",
       "      <td>False</td>\n",
       "      <td>NaN</td>\n",
       "    </tr>\n",
       "    <tr>\n",
       "      <th>1</th>\n",
       "      <td>2009-10-04</td>\n",
       "      <td>King County</td>\n",
       "      <td>black</td>\n",
       "      <td>white</td>\n",
       "      <td>False</td>\n",
       "      <td>NaN</td>\n",
       "    </tr>\n",
       "    <tr>\n",
       "      <th>2</th>\n",
       "      <td>2009-10-04</td>\n",
       "      <td>Kittitas County</td>\n",
       "      <td>white</td>\n",
       "      <td>white</td>\n",
       "      <td>False</td>\n",
       "      <td>NaN</td>\n",
       "    </tr>\n",
       "    <tr>\n",
       "      <th>3</th>\n",
       "      <td>2009-10-04</td>\n",
       "      <td>Clark County</td>\n",
       "      <td>white</td>\n",
       "      <td>white</td>\n",
       "      <td>False</td>\n",
       "      <td>NaN</td>\n",
       "    </tr>\n",
       "    <tr>\n",
       "      <th>4</th>\n",
       "      <td>2009-10-11</td>\n",
       "      <td>Kitsap County</td>\n",
       "      <td>white</td>\n",
       "      <td>white</td>\n",
       "      <td>False</td>\n",
       "      <td>NaN</td>\n",
       "    </tr>\n",
       "    <tr>\n",
       "      <th>5</th>\n",
       "      <td>2009-10-05</td>\n",
       "      <td>Skagit County</td>\n",
       "      <td>white</td>\n",
       "      <td>white</td>\n",
       "      <td>False</td>\n",
       "      <td>NaN</td>\n",
       "    </tr>\n",
       "    <tr>\n",
       "      <th>6</th>\n",
       "      <td>2009-10-02</td>\n",
       "      <td>Pierce County</td>\n",
       "      <td>black</td>\n",
       "      <td>white</td>\n",
       "      <td>False</td>\n",
       "      <td>NaN</td>\n",
       "    </tr>\n",
       "    <tr>\n",
       "      <th>7</th>\n",
       "      <td>2009-10-12</td>\n",
       "      <td>King County</td>\n",
       "      <td>white</td>\n",
       "      <td>black</td>\n",
       "      <td>True</td>\n",
       "      <td>False</td>\n",
       "    </tr>\n",
       "    <tr>\n",
       "      <th>8</th>\n",
       "      <td>2009-10-04</td>\n",
       "      <td>Grays Harbor County</td>\n",
       "      <td>white</td>\n",
       "      <td>white</td>\n",
       "      <td>False</td>\n",
       "      <td>NaN</td>\n",
       "    </tr>\n",
       "    <tr>\n",
       "      <th>9</th>\n",
       "      <td>2009-10-29</td>\n",
       "      <td>Mason County</td>\n",
       "      <td>NaN</td>\n",
       "      <td>white</td>\n",
       "      <td>False</td>\n",
       "      <td>NaN</td>\n",
       "    </tr>\n",
       "  </tbody>\n",
       "</table>\n",
       "</div>"
      ],
      "text/plain": [
       "         date          county_name subject_race officer_race search_conducted  \\\n",
       "0  2009-10-27   Walla Walla County        white        white            False   \n",
       "1  2009-10-04          King County        black        white            False   \n",
       "2  2009-10-04      Kittitas County        white        white            False   \n",
       "3  2009-10-04         Clark County        white        white            False   \n",
       "4  2009-10-11        Kitsap County        white        white            False   \n",
       "5  2009-10-05        Skagit County        white        white            False   \n",
       "6  2009-10-02        Pierce County        black        white            False   \n",
       "7  2009-10-12          King County        white        black             True   \n",
       "8  2009-10-04  Grays Harbor County        white        white            False   \n",
       "9  2009-10-29         Mason County          NaN        white            False   \n",
       "\n",
       "  contraband_found  \n",
       "0              NaN  \n",
       "1              NaN  \n",
       "2              NaN  \n",
       "3              NaN  \n",
       "4              NaN  \n",
       "5              NaN  \n",
       "6              NaN  \n",
       "7            False  \n",
       "8              NaN  \n",
       "9              NaN  "
      ]
     },
     "execution_count": 11,
     "metadata": {},
     "output_type": "execute_result"
    }
   ],
   "source": [
    "data.head(10)"
   ]
  },
  {
   "cell_type": "markdown",
   "metadata": {},
   "source": [
    "## Clean data"
   ]
  },
  {
   "cell_type": "code",
   "execution_count": 12,
   "metadata": {},
   "outputs": [],
   "source": [
    "# Convert date to datetime\n",
    "data['date'] = pd.to_datetime(data['date'], infer_datetime_format=True).dt.date"
   ]
  },
  {
   "cell_type": "code",
   "execution_count": 13,
   "metadata": {},
   "outputs": [],
   "source": [
    "# Remove fields where race unknown\n",
    "data = data[(data['subject_race'] != 'unknown') & (data['officer_race'] != 'unknown')]\n",
    "\n",
    "## DO NOT REMOVE NAN VALUES HERE SINCE SOME DATA SETS WERE MISSING SOME INFOS\n",
    "## (EX COUNTY_NAME) BUT HAVE OTHER USEFUL FIELDS"
   ]
  },
  {
   "cell_type": "markdown",
   "metadata": {},
   "source": [
    "FILTER ACCORDING TO TIME TOO"
   ]
  },
  {
   "cell_type": "code",
   "execution_count": 14,
   "metadata": {},
   "outputs": [],
   "source": [
    "data.to_csv(r'data/data.csv', index=False)"
   ]
  }
 ],
 "metadata": {
  "kernelspec": {
   "display_name": "Python [conda env:ada] *",
   "language": "python",
   "name": "conda-env-ada-py"
  },
  "language_info": {
   "codemirror_mode": {
    "name": "ipython",
    "version": 3
   },
   "file_extension": ".py",
   "mimetype": "text/x-python",
   "name": "python",
   "nbconvert_exporter": "python",
   "pygments_lexer": "ipython3",
   "version": "3.8.5"
  }
 },
 "nbformat": 4,
 "nbformat_minor": 4
}
